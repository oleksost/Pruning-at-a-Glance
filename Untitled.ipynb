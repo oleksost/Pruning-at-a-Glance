{
 "cells": [
  {
   "cell_type": "code",
   "execution_count": 2,
   "metadata": {},
   "outputs": [],
   "source": [
    "import torch\n",
    "from resnet_new import resnet50 as resnet_new\n",
    "#This step loads the dimensions of the compressed model\n",
    "dimensions=torch.load('dimensions_ResNet50_compressed30percent.pkl')\n",
    "#Uses the dimensions to create a new resnet model\n",
    "model = resnet_new(dimensions, pretrained=False)\n",
    "#loads the parameters of the model\n",
    "model.load_state_dict(torch.load('ResNet50_compressed30percent.pkl'))"
   ]
  },
  {
   "cell_type": "code",
   "execution_count": null,
   "metadata": {},
   "outputs": [],
   "source": []
  }
 ],
 "metadata": {
  "kernelspec": {
   "display_name": "Environment (conda_pytorch_p36)",
   "language": "python",
   "name": "conda_pytorch_p36"
  },
  "language_info": {
   "codemirror_mode": {
    "name": "ipython",
    "version": 3
   },
   "file_extension": ".py",
   "mimetype": "text/x-python",
   "name": "python",
   "nbconvert_exporter": "python",
   "pygments_lexer": "ipython3",
   "version": "3.6.7"
  }
 },
 "nbformat": 4,
 "nbformat_minor": 2
}
